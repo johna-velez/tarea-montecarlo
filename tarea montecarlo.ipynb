{
 "cells": [
  {
   "cell_type": "code",
   "execution_count": 1,
   "metadata": {},
   "outputs": [],
   "source": [
    "import numpy as np\n",
    "\n",
    "#definicion de funciones:\n",
    "\n",
    "# distribucion densidad Normal\n",
    "def p(x0,sigma,miu):\n",
    "    p=1/(sigma*np.sqrt(2*np.pi))*np.e**((x0-miu)**2/(-2*sigma**2))\n",
    "    return p\n",
    "\n",
    "#funcion para la primer integral\n",
    "def f(x0):\n",
    "    return(x0**2-4)\n",
    "\n",
    "#funcion para la segunda integral\n",
    "def g(x0):\n",
    "    return (np.sin(x0))**2"
   ]
  },
  {
   "cell_type": "code",
   "execution_count": 3,
   "metadata": {},
   "outputs": [
    {
     "name": "stdout",
     "output_type": "stream",
     "text": [
      "el resultado de la primer integral es 248.1685337668913 \n",
      "\n",
      "el resultado de la segunda integral es 0.9097150571384579 \n",
      "\n"
     ]
    }
   ],
   "source": [
    "N=100000\n",
    "s1=0\n",
    "s2=0\n",
    "#valores medios para cada una de las integrales\n",
    "mu1=5\n",
    "mu2=1.1\n",
    "#valor de la varianza \n",
    "var1=1.12\n",
    "var2=0.12\n",
    "\n",
    "# Arreglos de numeros aleatorios distribucion normal\n",
    "\n",
    "X1 = np.random.normal(mu1,var1,N) # mu, sigma, numero de datos\n",
    "X2 = np.random.normal(mu2,var2,N) # mu, sigma, numero de datos\n",
    "\n",
    "# Integrales\n",
    "\n",
    "#integral 1\n",
    "\n",
    "for i in range (0,N):\n",
    "    \n",
    "    sp1=f(X1[i])/p(X1[i],var1,mu1)\n",
    "    s1=sp1+s1\n",
    "    \n",
    "        \n",
    "I1=1/N*s1\n",
    "\n",
    "#integral 2\n",
    "\n",
    "for i in range (0,N):\n",
    "    sp2=g(X2[i])/p(X2[i],var2,mu2)\n",
    "    s2=sp2+s2\n",
    "    \n",
    "I2=1/N*s2\n",
    "\n",
    "# impresion de resultados\n",
    "\n",
    "print (\"el resultado de la primer integral es\",I1,\"\\n\")\n",
    "print(\"el resultado de la segunda integral es\",I2,\"\\n\")"
   ]
  },
  {
   "cell_type": "code",
   "execution_count": null,
   "metadata": {},
   "outputs": [],
   "source": []
  },
  {
   "cell_type": "code",
   "execution_count": null,
   "metadata": {},
   "outputs": [],
   "source": []
  }
 ],
 "metadata": {
  "kernelspec": {
   "display_name": "Python 3",
   "language": "python",
   "name": "python3"
  },
  "language_info": {
   "codemirror_mode": {
    "name": "ipython",
    "version": 3
   },
   "file_extension": ".py",
   "mimetype": "text/x-python",
   "name": "python",
   "nbconvert_exporter": "python",
   "pygments_lexer": "ipython3",
   "version": "3.8.3"
  }
 },
 "nbformat": 4,
 "nbformat_minor": 4
}
